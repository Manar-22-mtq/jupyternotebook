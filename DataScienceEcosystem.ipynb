{
  "metadata": {
    "language_info": {
      "codemirror_mode": {
        "name": "python",
        "version": 3
      },
      "file_extension": ".py",
      "mimetype": "text/x-python",
      "name": "python",
      "nbconvert_exporter": "python",
      "pygments_lexer": "ipython3",
      "version": "3.8"
    },
    "kernelspec": {
      "name": "python",
      "display_name": "Python (Pyodide)",
      "language": "python"
    }
  },
  "nbformat_minor": 4,
  "nbformat": 4,
  "cells": [
    {
      "cell_type": "markdown",
      "source": "# Date Science Tools and Ecosystem",
      "metadata": {}
    },
    {
      "cell_type": "code",
      "source": "/in this notebook , Date Science Tools and Ecosysem are summarized'",
      "metadata": {
        "trusted": true
      },
      "execution_count": null,
      "outputs": []
    },
    {
      "cell_type": "markdown",
      "source": "# Some of the popular languages that Data Scientists use are:",
      "metadata": {}
    },
    {
      "cell_type": "markdown",
      "source": " - Python \n - Sql \n - R \n - Julia \n - JavaScript \n - Java ",
      "metadata": {}
    },
    {
      "cell_type": "markdown",
      "source": "# Some of the commonly used libraries used by Data Scientists include:",
      "metadata": {}
    },
    {
      "cell_type": "markdown",
      "source": "\"Python Libraries for Data Science\"\n- NumPy\n- Keras\n- Pandas\n- PyTorch\n- SciPy\n- Scikit-Learn\n- TensorFlow\n- Matplotlib",
      "metadata": {}
    },
    {
      "cell_type": "markdown",
      "source": "|Date Science Tools|\n|:----------------:|\n| MS Excel         |\n| Jupyter Notebook |\n| python           |",
      "metadata": {}
    },
    {
      "cell_type": "markdown",
      "source": "# Below are a few examples of evaluating arithmetic expressions in Python",
      "metadata": {}
    },
    {
      "cell_type": "markdown",
      "source": "\"For example, in the expression 2 + 3 4, the multiplication operator () has higher precedence than the addition operator (+), so the interpreter will first evaluate the multiplication of 3 and 4, resulting in 12, and then add 2 to that result. This results in the final value of 14 \"",
      "metadata": {}
    },
    {
      "cell_type": "code",
      "source": "# This a simple arithmetic exprssion to multiply then add\n'integers'\nresult = (3*4)+5\nresult",
      "metadata": {
        "trusted": true
      },
      "execution_count": 2,
      "outputs": [
        {
          "execution_count": 2,
          "output_type": "execute_result",
          "data": {
            "text/plain": "17"
          },
          "metadata": {}
        }
      ]
    },
    {
      "cell_type": "code",
      "source": "# This will convert 200 minutes to hours by dividing by 60 \nminutes = 200\nhours = minutes/60\nhours",
      "metadata": {
        "trusted": true
      },
      "execution_count": 3,
      "outputs": [
        {
          "execution_count": 3,
          "output_type": "execute_result",
          "data": {
            "text/plain": "3.3333333333333335"
          },
          "metadata": {}
        }
      ]
    },
    {
      "cell_type": "markdown",
      "source": "**Objectives:**\n\n- List popular languages for Data Science\n- [Add more objectives here]\n- [Add more objectives here]",
      "metadata": {}
    },
    {
      "cell_type": "markdown",
      "source": "## Author\n Manar",
      "metadata": {}
    },
    {
      "cell_type": "code",
      "source": "",
      "metadata": {},
      "execution_count": null,
      "outputs": []
    }
  ]
}